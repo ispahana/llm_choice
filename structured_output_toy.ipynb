{
 "cells": [
  {
   "cell_type": "code",
   "execution_count": 4,
   "id": "f9fc1317-e5b9-4977-b960-9218f683ed7e",
   "metadata": {},
   "outputs": [],
   "source": [
    "import os\n",
    "from google import genai\n",
    "import pydantic as "
   ]
  },
  {
   "cell_type": "code",
   "execution_count": 2,
   "id": "79b623c1-eb55-473c-9d18-56e2d6083ce7",
   "metadata": {},
   "outputs": [],
   "source": [
    "my_var = os.getenv('GOOGLE_API_KEY')"
   ]
  },
  {
   "cell_type": "code",
   "execution_count": null,
   "id": "6b9d43bf-fde0-4c74-94ee-03435dd0794e",
   "metadata": {},
   "outputs": [],
   "source": [
    "client = genai.Client(api_key='GEMINI_API_KEY')"
   ]
  }
 ],
 "metadata": {
  "kernelspec": {
   "display_name": "Python 3 (ipykernel)",
   "language": "python",
   "name": "python3"
  },
  "language_info": {
   "codemirror_mode": {
    "name": "ipython",
    "version": 3
   },
   "file_extension": ".py",
   "mimetype": "text/x-python",
   "name": "python",
   "nbconvert_exporter": "python",
   "pygments_lexer": "ipython3",
   "version": "3.13.0"
  }
 },
 "nbformat": 4,
 "nbformat_minor": 5
}
