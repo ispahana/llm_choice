{
 "cells": [
  {
   "cell_type": "code",
   "execution_count": 26,
   "id": "30490062-4155-44be-b512-35fec5ed49d0",
   "metadata": {},
   "outputs": [],
   "source": [
    "import os\n",
    "import openai\n",
    "import numpy as np\n",
    "from IPython.display import display, HTML"
   ]
  },
  {
   "cell_type": "code",
   "execution_count": 27,
   "id": "4593bd48-35ca-4d3c-a39f-5e132962f9d6",
   "metadata": {},
   "outputs": [],
   "source": [
    "api_key = os.getenv(\"AAPELI_KEY\")"
   ]
  },
  {
   "cell_type": "code",
   "execution_count": 28,
   "id": "02494931-614c-40a3-96e0-25cd088f5373",
   "metadata": {},
   "outputs": [],
   "source": [
    "client = openai.Client(api_key=api_key, base_url=\"https://px.axess-ai.com/v1\")"
   ]
  },
  {
   "cell_type": "code",
   "execution_count": 49,
   "id": "e35e9c1c-470e-46f9-bb92-a7aec427bebe",
   "metadata": {},
   "outputs": [
    {
     "data": {
      "text/plain": [
       "[Model(id='anthropic.claude-3.5-haiku', created=1677610602, object='model', owned_by='openai'),\n",
       " Model(id='qwen.qwq-32b', created=1677610602, object='model', owned_by='openai'),\n",
       " Model(id='qwen.qwen3-235b-a22b', created=1677610602, object='model', owned_by='openai'),\n",
       " Model(id='mistral.mistral-large-2411', created=1677610602, object='model', owned_by='openai'),\n",
       " Model(id='google.gemma-3-27b', created=1677610602, object='model', owned_by='openai'),\n",
       " Model(id='xai.grok-3-beta-mini', created=1677610602, object='model', owned_by='openai'),\n",
       " Model(id='meta.llama-3.3-70b', created=1677610602, object='model', owned_by='openai'),\n",
       " Model(id='xai.grok-3-beta', created=1677610602, object='model', owned_by='openai'),\n",
       " Model(id='google.gemini-2.5-pro-preview', created=1677610602, object='model', owned_by='openai'),\n",
       " Model(id='meta.llama-4-scout', created=1677610602, object='model', owned_by='openai'),\n",
       " Model(id='openai.gpt-4.1-nano', created=1677610602, object='model', owned_by='openai'),\n",
       " Model(id='meta.llama-4-maverick', created=1677610602, object='model', owned_by='openai'),\n",
       " Model(id='axess-ai.standard', created=1677610602, object='model', owned_by='openai'),\n",
       " Model(id='meta.llama-3.2-3b', created=1677610602, object='model', owned_by='openai'),\n",
       " Model(id='anthropic.claude-3.7-sonnet-thinking', created=1677610602, object='model', owned_by='openai'),\n",
       " Model(id='google.gemini-2.5-flash-preview', created=1677610602, object='model', owned_by='openai'),\n",
       " Model(id='openai.gpt-4.1-mini', created=1677610602, object='model', owned_by='openai'),\n",
       " Model(id='anthropic.claude-3.7-sonnet', created=1677610602, object='model', owned_by='openai'),\n",
       " Model(id='openai.gpt-4o-mini-tts', created=1677610602, object='model', owned_by='openai'),\n",
       " Model(id='perplexity.sonar-deep-research', created=1677610602, object='model', owned_by='openai'),\n",
       " Model(id='baai.bge-m3', created=1677610602, object='model', owned_by='openai'),\n",
       " Model(id='deepseek.deepseek-r1', created=1677610602, object='model', owned_by='openai'),\n",
       " Model(id='qwen.qwen3-30b-a3b', created=1677610602, object='model', owned_by='openai'),\n",
       " Model(id='deepseek.deepseek-v3-0324', created=1677610602, object='model', owned_by='openai'),\n",
       " Model(id='openai.o1', created=1677610602, object='model', owned_by='openai'),\n",
       " Model(id='mistral.mistral-small-3.1', created=1677610602, object='model', owned_by='openai'),\n",
       " Model(id='qwen.qwen3-32b', created=1677610602, object='model', owned_by='openai'),\n",
       " Model(id='openai.o4-mini', created=1677610602, object='model', owned_by='openai'),\n",
       " Model(id='openai.gpt-4o-transcribe', created=1677610602, object='model', owned_by='openai'),\n",
       " Model(id='openai.gpt-4o-mini', created=1677610602, object='model', owned_by='openai'),\n",
       " Model(id='openai.gpt-4.1', created=1677610602, object='model', owned_by='openai'),\n",
       " Model(id='openai.chatgpt-4o', created=1677610602, object='model', owned_by='openai'),\n",
       " Model(id='perplexity.sonar', created=1677610602, object='model', owned_by='openai'),\n",
       " Model(id='openai.gpt-4o', created=1677610602, object='model', owned_by='openai')]"
      ]
     },
     "execution_count": 49,
     "metadata": {},
     "output_type": "execute_result"
    }
   ],
   "source": [
    "client.models.list().data"
   ]
  },
  {
   "cell_type": "code",
   "execution_count": 50,
   "id": "b84c31a3-1587-40f4-8303-5d77f535b935",
   "metadata": {},
   "outputs": [],
   "source": [
    "def get_completion(\n",
    "    messages: list[dict[str, str]],\n",
    "    model: str = \"meta.llama-3.3-70b\",\n",
    "    max_tokens=500,\n",
    "    temperature=0,\n",
    "    stop=None,\n",
    "    seed=123,\n",
    "    tools=None,\n",
    "    logprobs=None,  # whether to return log probabilities of the output tokens or not. If true, returns the log probabilities of each output token returned in the content of message..\n",
    "    top_logprobs=None,\n",
    ") -> str:\n",
    "    params = {\n",
    "        \"model\": model,\n",
    "        \"messages\": messages,\n",
    "        \"max_tokens\": max_tokens,\n",
    "        \"temperature\": temperature,\n",
    "        \"stop\": stop,\n",
    "        \"seed\": seed,\n",
    "        \"logprobs\": logprobs,\n",
    "        \"top_logprobs\": top_logprobs,\n",
    "    }\n",
    "    if tools:\n",
    "        params[\"tools\"] = tools\n",
    "\n",
    "    completion = client.chat.completions.create(**params)\n",
    "    return completion"
   ]
  },
  {
   "cell_type": "code",
   "execution_count": 56,
   "id": "1e4f7611-3ec0-4068-bb37-179856aa0a1f",
   "metadata": {},
   "outputs": [],
   "source": [
    "CLASSIFICATION_PROMPT = \"\"\"You will be given a headline of a news article.\n",
    "Classify the article into one of the following categories: Technology, Politics, Sports, and Art.\n",
    "Return only the name of the category, and nothing else.\n",
    "MAKE SURE your output is one of the four categories stated.\n",
    "Article headline: {headline}\"\"\""
   ]
  },
  {
   "cell_type": "code",
   "execution_count": 52,
   "id": "48c55fa4-adfc-439b-a566-1071a26c8b56",
   "metadata": {},
   "outputs": [],
   "source": [
    "CLASSIFICATION_PROMPT = \"\"\"You will be given a headline of a news article.\n",
    "Classify the article into one of the following categories: Technology, Politics, Sports, and Art.\n",
    "If the category is Technology, return A. If it is Politics, return B. If it is Sports, return C. If it is Art, return D.\n",
    "MAKE SURE your output is one of the four letters, A, B, C, or D.\n",
    "Article headline: {headline}\"\"\" "
   ]
  },
  {
   "cell_type": "code",
   "execution_count": 53,
   "id": "7a787c3c-7e4e-4dfd-9922-77819d70ae29",
   "metadata": {},
   "outputs": [],
   "source": [
    "CLASSIFICATION_PROMPT = \"\"\"You will be given a headline of a news article.\n",
    "Classify the article into one of the following categories: Technology, Politics, Sports, and Art.\n",
    "Article headline: {headline}\"\"\" "
   ]
  },
  {
   "cell_type": "code",
   "execution_count": 57,
   "id": "189041d6-03a6-4b2a-8f61-99bdc653f452",
   "metadata": {},
   "outputs": [],
   "source": [
    "headlines = [\n",
    "    \"Tech Giant Unveils Latest Smartphone Model with Advanced Photo-Editing Features.\",\n",
    "    \"Local Mayor Launches Initiative to Enhance Urban Public Transport.\",\n",
    "    \"Tennis Champion Showcases Hidden Talents in Symphony Orchestra Debut\",\n",
    "]"
   ]
  },
  {
   "cell_type": "code",
   "execution_count": 58,
   "id": "2e6fea80-2296-49b1-9185-f804773d715a",
   "metadata": {},
   "outputs": [
    {
     "name": "stdout",
     "output_type": "stream",
     "text": [
      "\n",
      "Headline: Tech Giant Unveils Latest Smartphone Model with Advanced Photo-Editing Features.\n",
      "Category: Technology\n",
      "\n",
      "\n",
      "Headline: Local Mayor Launches Initiative to Enhance Urban Public Transport.\n",
      "Category: Politics\n",
      "\n",
      "\n",
      "Headline: Tennis Champion Showcases Hidden Talents in Symphony Orchestra Debut\n",
      "Category: Art\n",
      "\n"
     ]
    }
   ],
   "source": [
    "for headline in headlines:\n",
    "    print(f\"\\nHeadline: {headline}\")\n",
    "    API_RESPONSE = get_completion(\n",
    "        [{\"role\": \"user\", \"content\": CLASSIFICATION_PROMPT.format(headline=headline)}],\n",
    "        model=\"openai.gpt-4o-mini\",\n",
    "    )\n",
    "    print(f\"Category: {API_RESPONSE.choices[0].message.content}\\n\")"
   ]
  },
  {
   "cell_type": "code",
   "execution_count": 62,
   "id": "c0e24b1c-81fc-4932-9e5d-2344c50db7f2",
   "metadata": {},
   "outputs": [
    {
     "name": "stdout",
     "output_type": "stream",
     "text": [
      "\n",
      "Headline: Tech Giant Unveils Latest Smartphone Model with Advanced Photo-Editing Features.\n"
     ]
    },
    {
     "ename": "TypeError",
     "evalue": "get_completion() got an unexpected keyword argument 'allowed_openai_params'",
     "output_type": "error",
     "traceback": [
      "\u001b[31m---------------------------------------------------------------------------\u001b[39m",
      "\u001b[31mTypeError\u001b[39m                                 Traceback (most recent call last)",
      "\u001b[36mCell\u001b[39m\u001b[36m \u001b[39m\u001b[32mIn[62]\u001b[39m\u001b[32m, line 3\u001b[39m\n\u001b[32m      1\u001b[39m \u001b[38;5;28;01mfor\u001b[39;00m headline \u001b[38;5;129;01min\u001b[39;00m headlines:\n\u001b[32m      2\u001b[39m     \u001b[38;5;28mprint\u001b[39m(\u001b[33mf\u001b[39m\u001b[33m\"\u001b[39m\u001b[38;5;130;01m\\n\u001b[39;00m\u001b[33mHeadline: \u001b[39m\u001b[38;5;132;01m{\u001b[39;00mheadline\u001b[38;5;132;01m}\u001b[39;00m\u001b[33m\"\u001b[39m)\n\u001b[32m----> \u001b[39m\u001b[32m3\u001b[39m     API_RESPONSE = \u001b[43mget_completion\u001b[49m\u001b[43m(\u001b[49m\n\u001b[32m      4\u001b[39m \u001b[43m        \u001b[49m\u001b[43m[\u001b[49m\u001b[43m{\u001b[49m\u001b[33;43m\"\u001b[39;49m\u001b[33;43mrole\u001b[39;49m\u001b[33;43m\"\u001b[39;49m\u001b[43m:\u001b[49m\u001b[43m \u001b[49m\u001b[33;43m\"\u001b[39;49m\u001b[33;43muser\u001b[39;49m\u001b[33;43m\"\u001b[39;49m\u001b[43m,\u001b[49m\u001b[43m \u001b[49m\u001b[33;43m\"\u001b[39;49m\u001b[33;43mcontent\u001b[39;49m\u001b[33;43m\"\u001b[39;49m\u001b[43m:\u001b[49m\u001b[43m \u001b[49m\u001b[43mCLASSIFICATION_PROMPT\u001b[49m\u001b[43m.\u001b[49m\u001b[43mformat\u001b[49m\u001b[43m(\u001b[49m\u001b[43mheadline\u001b[49m\u001b[43m=\u001b[49m\u001b[43mheadline\u001b[49m\u001b[43m)\u001b[49m\u001b[43m}\u001b[49m\u001b[43m]\u001b[49m\u001b[43m,\u001b[49m\n\u001b[32m      5\u001b[39m \u001b[43m        \u001b[49m\u001b[43mmodel\u001b[49m\u001b[43m=\u001b[49m\u001b[33;43m\"\u001b[39;49m\u001b[33;43mmeta.llama-3.3-70b\u001b[39;49m\u001b[33;43m\"\u001b[39;49m\u001b[43m,\u001b[49m\n\u001b[32m      6\u001b[39m \u001b[43m        \u001b[49m\u001b[43mlogprobs\u001b[49m\u001b[43m=\u001b[49m\u001b[38;5;28;43;01mTrue\u001b[39;49;00m\u001b[43m,\u001b[49m\n\u001b[32m      7\u001b[39m \u001b[43m        \u001b[49m\u001b[43mtop_logprobs\u001b[49m\u001b[43m=\u001b[49m\u001b[32;43m21\u001b[39;49m\u001b[43m,\u001b[49m\n\u001b[32m      8\u001b[39m \u001b[43m        \u001b[49m\u001b[43mallowed_openai_params\u001b[49m\u001b[43m=\u001b[49m\u001b[43m[\u001b[49m\u001b[33;43m'\u001b[39;49m\u001b[33;43mlogprobs\u001b[39;49m\u001b[33;43m'\u001b[39;49m\u001b[43m,\u001b[49m\u001b[43m \u001b[49m\u001b[33;43m'\u001b[39;49m\u001b[33;43mtop_logprobs\u001b[39;49m\u001b[33;43m'\u001b[39;49m\u001b[43m]\u001b[49m\n\u001b[32m      9\u001b[39m \u001b[43m    \u001b[49m\u001b[43m)\u001b[49m\n\u001b[32m     10\u001b[39m     top_two_logprobs = API_RESPONSE.choices[\u001b[32m0\u001b[39m].logprobs.content[\u001b[32m0\u001b[39m].top_logprobs\n\u001b[32m     11\u001b[39m     html_content = \u001b[33m\"\u001b[39m\u001b[33m\"\u001b[39m\n",
      "\u001b[31mTypeError\u001b[39m: get_completion() got an unexpected keyword argument 'allowed_openai_params'"
     ]
    }
   ],
   "source": [
    "for headline in headlines:\n",
    "    print(f\"\\nHeadline: {headline}\")\n",
    "    API_RESPONSE = get_completion(\n",
    "        [{\"role\": \"user\", \"content\": CLASSIFICATION_PROMPT.format(headline=headline)}],\n",
    "        model=\"meta.llama-3.3-70b\",\n",
    "        logprobs=True,\n",
    "        top_logprobs=21,\n",
    "        allowed_openai_params=['logprobs', 'top_logprobs']\n",
    "    )\n",
    "    top_two_logprobs = API_RESPONSE.choices[0].logprobs.content[0].top_logprobs\n",
    "    html_content = \"\"\n",
    "    for i, logprob in enumerate(top_two_logprobs, start=1):\n",
    "        html_content += (\n",
    "            f\"<span style='color: cyan'>Output token {i}:</span> {logprob.token}, \"\n",
    "            f\"<span style='color: darkorange'>logprobs:</span> {logprob.logprob}, \"\n",
    "            f\"<span style='color: magenta'>linear probability:</span> {np.round(np.exp(logprob.logprob)*100,2)}%<br>\"\n",
    "        )\n",
    "    display(HTML(html_content))\n",
    "    print(\"\\n\")"
   ]
  },
  {
   "cell_type": "code",
   "execution_count": null,
   "id": "0c3be87d-9a3c-42a9-affa-1c9bab745b90",
   "metadata": {},
   "outputs": [],
   "source": []
  }
 ],
 "metadata": {
  "kernelspec": {
   "display_name": "Python 3 (ipykernel)",
   "language": "python",
   "name": "python3"
  },
  "language_info": {
   "codemirror_mode": {
    "name": "ipython",
    "version": 3
   },
   "file_extension": ".py",
   "mimetype": "text/x-python",
   "name": "python",
   "nbconvert_exporter": "python",
   "pygments_lexer": "ipython3",
   "version": "3.13.3"
  }
 },
 "nbformat": 4,
 "nbformat_minor": 5
}
